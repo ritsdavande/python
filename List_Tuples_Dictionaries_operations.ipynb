{
 "cells": [
  {
   "cell_type": "code",
   "execution_count": 1,
   "id": "1187e5aa-a2b6-49ba-a408-dfb3f9ada0b9",
   "metadata": {},
   "outputs": [],
   "source": [
    "# You can remove,add amd update values from list\n",
    "# List are mutable (modifiable)"
   ]
  },
  {
   "cell_type": "code",
   "execution_count": 2,
   "id": "f68b49f7-4b18-47b9-bd6f-495772f97dad",
   "metadata": {},
   "outputs": [],
   "source": [
    "list1= ['physics','chemistry', 1997,2000];"
   ]
  },
  {
   "cell_type": "code",
   "execution_count": 3,
   "id": "b7f1c826-e78a-46b7-9819-6a4293d2bcf3",
   "metadata": {},
   "outputs": [],
   "source": [
    "list2= [1,2,3,4,5];"
   ]
  },
  {
   "cell_type": "code",
   "execution_count": 4,
   "id": "99c46cf1-1d14-4859-bebf-ced05de18daa",
   "metadata": {},
   "outputs": [],
   "source": [
    "list3=[\"a\",\"b\",\"c\",\"d\"];"
   ]
  },
  {
   "cell_type": "code",
   "execution_count": 5,
   "id": "a252d244-11bf-48ce-933c-c38ff5cab31a",
   "metadata": {},
   "outputs": [
    {
     "name": "stdout",
     "output_type": "stream",
     "text": [
      "list1[0]: physics\n"
     ]
    }
   ],
   "source": [
    "print(\"list1[0]:\",list1[0])"
   ]
  },
  {
   "cell_type": "code",
   "execution_count": 6,
   "id": "c9dc6e33-4376-4efb-8743-91894edffc0a",
   "metadata": {},
   "outputs": [
    {
     "name": "stdout",
     "output_type": "stream",
     "text": [
      "list2[1]: 2\n"
     ]
    }
   ],
   "source": [
    "print(\"list2[1]:\",list2[1])"
   ]
  },
  {
   "cell_type": "code",
   "execution_count": 7,
   "id": "e720cbb3-727a-4200-9f36-ece0069456a3",
   "metadata": {},
   "outputs": [],
   "source": [
    "list2[2] = 6"
   ]
  },
  {
   "cell_type": "code",
   "execution_count": 8,
   "id": "3c7b56a5-7294-4c8a-b9da-b61ca77bcee4",
   "metadata": {},
   "outputs": [],
   "source": [
    "del list1[2] # Deleting list elements"
   ]
  },
  {
   "cell_type": "code",
   "execution_count": 9,
   "id": "a3cd7ae4-5a25-4f2e-8b7e-d34b27a80c8d",
   "metadata": {},
   "outputs": [
    {
     "data": {
      "text/plain": [
       "3"
      ]
     },
     "execution_count": 9,
     "metadata": {},
     "output_type": "execute_result"
    }
   ],
   "source": [
    "len([1,2,3]) # lenght"
   ]
  },
  {
   "cell_type": "code",
   "execution_count": 10,
   "id": "e5f2c4de-8ecb-4889-942f-f129942bc620",
   "metadata": {},
   "outputs": [
    {
     "data": {
      "text/plain": [
       "[1, 2, 3, 4, 5, 6]"
      ]
     },
     "execution_count": 10,
     "metadata": {},
     "output_type": "execute_result"
    }
   ],
   "source": [
    "[1,2,3]+[4,5,6] # Concatenation"
   ]
  },
  {
   "cell_type": "code",
   "execution_count": 11,
   "id": "a61aa9a3-4637-47e8-a0e2-abf0ffb138bb",
   "metadata": {},
   "outputs": [
    {
     "data": {
      "text/plain": [
       "['Hi!', 'Hi!', 'Hi!', 'Hi!']"
      ]
     },
     "execution_count": 11,
     "metadata": {},
     "output_type": "execute_result"
    }
   ],
   "source": [
    "['Hi!'] * 4  #repetition"
   ]
  },
  {
   "cell_type": "code",
   "execution_count": 12,
   "id": "93d0e2eb-1c98-411b-9d71-dedcb15b3434",
   "metadata": {},
   "outputs": [
    {
     "data": {
      "text/plain": [
       "True"
      ]
     },
     "execution_count": 12,
     "metadata": {},
     "output_type": "execute_result"
    }
   ],
   "source": [
    "3 in [1,2,3]   #membership"
   ]
  },
  {
   "cell_type": "code",
   "execution_count": 13,
   "id": "d349c646-648c-49e0-a007-dcf1673e61e7",
   "metadata": {},
   "outputs": [
    {
     "name": "stdout",
     "output_type": "stream",
     "text": [
      "1  2  3  "
     ]
    }
   ],
   "source": [
    "for x in [1,2,3]: print(x,\" \",end='') #Iteration"
   ]
  },
  {
   "cell_type": "code",
   "execution_count": 14,
   "id": "34016dd1-feba-43c9-82e4-6138f1379f5b",
   "metadata": {},
   "outputs": [],
   "source": [
    "#cmp(list1,list2)"
   ]
  },
  {
   "cell_type": "code",
   "execution_count": 15,
   "id": "fc43b04c-540f-4af2-99d2-fcfb2e86ec52",
   "metadata": {},
   "outputs": [
    {
     "data": {
      "text/plain": [
       "3"
      ]
     },
     "execution_count": 15,
     "metadata": {},
     "output_type": "execute_result"
    }
   ],
   "source": [
    "len(list1)"
   ]
  },
  {
   "cell_type": "code",
   "execution_count": 16,
   "id": "48569b63-8635-4506-992e-f775d8cff336",
   "metadata": {},
   "outputs": [
    {
     "data": {
      "text/plain": [
       "6"
      ]
     },
     "execution_count": 16,
     "metadata": {},
     "output_type": "execute_result"
    }
   ],
   "source": [
    "max(list2)"
   ]
  },
  {
   "cell_type": "code",
   "execution_count": 17,
   "id": "89caa53e-08bf-4924-8dec-28d188b396d4",
   "metadata": {},
   "outputs": [],
   "source": [
    "tuple=('5','4','7')"
   ]
  },
  {
   "cell_type": "code",
   "execution_count": 18,
   "id": "3ea65fdd-3b8c-49d5-ab94-8cb7dca35079",
   "metadata": {},
   "outputs": [
    {
     "data": {
      "text/plain": [
       "['5', '4', '7']"
      ]
     },
     "execution_count": 18,
     "metadata": {},
     "output_type": "execute_result"
    }
   ],
   "source": [
    "list(tuple) # convert Tuple into list"
   ]
  },
  {
   "cell_type": "code",
   "execution_count": 19,
   "id": "41b4b23b-9d7c-4a3b-b570-84616a6346b5",
   "metadata": {},
   "outputs": [],
   "source": [
    "a=['11']"
   ]
  },
  {
   "cell_type": "code",
   "execution_count": 20,
   "id": "2d389db5-7a38-40e3-b9a5-4fbc5a3d4b1f",
   "metadata": {},
   "outputs": [],
   "source": [
    "list1.reverse()"
   ]
  },
  {
   "cell_type": "code",
   "execution_count": 21,
   "id": "d84ceca1-a8ab-40ba-840b-ac7093e43ef4",
   "metadata": {},
   "outputs": [],
   "source": [
    "obj = 20"
   ]
  },
  {
   "cell_type": "code",
   "execution_count": 22,
   "id": "d1c7c3de-b4f3-4e13-9dbb-e882420722fe",
   "metadata": {},
   "outputs": [],
   "source": [
    "list1.append(obj)"
   ]
  },
  {
   "cell_type": "code",
   "execution_count": 23,
   "id": "2b9e9904-710f-4cff-a753-854f505c0b66",
   "metadata": {},
   "outputs": [
    {
     "data": {
      "text/plain": [
       "1"
      ]
     },
     "execution_count": 23,
     "metadata": {},
     "output_type": "execute_result"
    }
   ],
   "source": [
    "list1.count(obj) "
   ]
  },
  {
   "cell_type": "code",
   "execution_count": 24,
   "id": "6d894fca-62f4-465e-a0b6-22f43809c804",
   "metadata": {},
   "outputs": [],
   "source": [
    "list1.extend('5')"
   ]
  },
  {
   "cell_type": "code",
   "execution_count": 25,
   "id": "9960ecc5-2af8-4692-9ed7-3933b6002de9",
   "metadata": {},
   "outputs": [
    {
     "data": {
      "text/plain": [
       "3"
      ]
     },
     "execution_count": 25,
     "metadata": {},
     "output_type": "execute_result"
    }
   ],
   "source": [
    "list1.index(obj)"
   ]
  },
  {
   "cell_type": "code",
   "execution_count": 26,
   "id": "a61f1055-d60b-4672-bab6-67c8f123c8e2",
   "metadata": {},
   "outputs": [],
   "source": [
    "list1.insert(1, obj)"
   ]
  },
  {
   "cell_type": "code",
   "execution_count": 27,
   "id": "7ab4c93f-9114-46c6-881d-fcf3f6953f22",
   "metadata": {},
   "outputs": [
    {
     "name": "stdout",
     "output_type": "stream",
     "text": [
      "[2000, 20, 'chemistry', 'physics', 20, '5']\n"
     ]
    }
   ],
   "source": [
    "print(list1)"
   ]
  },
  {
   "cell_type": "code",
   "execution_count": 28,
   "id": "2c9ac758-41e7-4da0-865a-a35906e24633",
   "metadata": {},
   "outputs": [],
   "source": [
    "list1.remove(obj) "
   ]
  },
  {
   "cell_type": "code",
   "execution_count": 29,
   "id": "1fb6d51f-2dc5-45ce-83ca-f9df15118801",
   "metadata": {},
   "outputs": [
    {
     "name": "stdout",
     "output_type": "stream",
     "text": [
      "[2000, 'chemistry', 'physics', 20, '5']\n"
     ]
    }
   ],
   "source": [
    "print(list1)"
   ]
  },
  {
   "cell_type": "code",
   "execution_count": 30,
   "id": "481a98e0-0e64-4032-b4f4-416a5a974f7b",
   "metadata": {},
   "outputs": [],
   "source": [
    "# Tuples"
   ]
  },
  {
   "cell_type": "code",
   "execution_count": 31,
   "id": "5e376072-5ba5-4c26-87dd-d23df70456bc",
   "metadata": {},
   "outputs": [],
   "source": [
    "tuple1= ('phy','che',1997,2000)\n",
    "tuple2= (1,2,3,4,5)\n",
    "tuple3= \"a\", \"b\", \"c\", \"d\"\n",
    "tuple4=();\n",
    "tuple5=(50,)"
   ]
  },
  {
   "cell_type": "code",
   "execution_count": 32,
   "id": "7721547c-cb18-4274-b1e4-bd89ad59c0fe",
   "metadata": {},
   "outputs": [
    {
     "name": "stdout",
     "output_type": "stream",
     "text": [
      "tuple1[1]:  che\n"
     ]
    }
   ],
   "source": [
    "print (\"tuple1[1]: \",tuple1[1])"
   ]
  },
  {
   "cell_type": "code",
   "execution_count": 33,
   "id": "fa20ca13-c8d0-4996-b126-e93b3e9426fe",
   "metadata": {},
   "outputs": [
    {
     "name": "stdout",
     "output_type": "stream",
     "text": [
      "tuple2[1:]: (2, 3, 4, 5)\n"
     ]
    }
   ],
   "source": [
    "print (\"tuple2[1:]:\",tuple2[1:])"
   ]
  },
  {
   "cell_type": "code",
   "execution_count": 34,
   "id": "1d4a1b9c-a185-4a0c-a26d-298f31e6d799",
   "metadata": {},
   "outputs": [],
   "source": [
    "#tuple2[2]= 6 # invalid because tuples are immutable"
   ]
  },
  {
   "cell_type": "code",
   "execution_count": 35,
   "id": "3a621888-2c1e-4f2e-a90a-7d1de4847ba3",
   "metadata": {},
   "outputs": [],
   "source": [
    "del tuple1"
   ]
  },
  {
   "cell_type": "code",
   "execution_count": 36,
   "id": "2a77e8c3-57f8-4708-a853-edaa67b3cf49",
   "metadata": {},
   "outputs": [
    {
     "data": {
      "text/plain": [
       "3"
      ]
     },
     "execution_count": 36,
     "metadata": {},
     "output_type": "execute_result"
    }
   ],
   "source": [
    "len((1,2,3))"
   ]
  },
  {
   "cell_type": "code",
   "execution_count": 37,
   "id": "15155c96-4397-4b8a-b3c0-b35c22d51354",
   "metadata": {},
   "outputs": [
    {
     "data": {
      "text/plain": [
       "(1, 2, 3, 4, 5, 6)"
      ]
     },
     "execution_count": 37,
     "metadata": {},
     "output_type": "execute_result"
    }
   ],
   "source": [
    "(1,2,3)+(4,5,6)"
   ]
  },
  {
   "cell_type": "code",
   "execution_count": 38,
   "id": "b167d0e3-f0ff-4581-9e7b-21f4a0b8d8df",
   "metadata": {},
   "outputs": [
    {
     "data": {
      "text/plain": [
       "('Hi!', 'Hi!', 'Hi!', 'Hi!')"
      ]
     },
     "execution_count": 38,
     "metadata": {},
     "output_type": "execute_result"
    }
   ],
   "source": [
    "('Hi!',)*4"
   ]
  },
  {
   "cell_type": "code",
   "execution_count": 39,
   "id": "c48fea28-4432-4c94-8491-033e9612e71f",
   "metadata": {},
   "outputs": [
    {
     "data": {
      "text/plain": [
       "True"
      ]
     },
     "execution_count": 39,
     "metadata": {},
     "output_type": "execute_result"
    }
   ],
   "source": [
    "3 in (1,2,3)"
   ]
  },
  {
   "cell_type": "code",
   "execution_count": 40,
   "id": "2182cf19-9c87-45f0-a268-e1023f4cfb5a",
   "metadata": {},
   "outputs": [
    {
     "name": "stdout",
     "output_type": "stream",
     "text": [
      "1 2 3 "
     ]
    }
   ],
   "source": [
    "for x in (1,2,3) : print(x,end=' ')"
   ]
  },
  {
   "cell_type": "code",
   "execution_count": 41,
   "id": "66042daf-86ac-4340-b2fc-ea9a1ce8c4a6",
   "metadata": {},
   "outputs": [],
   "source": [
    "#cmp(tuple1, tuple2)  cmp not defined"
   ]
  },
  {
   "cell_type": "code",
   "execution_count": 42,
   "id": "f9cbd424-0016-4d76-96c6-8967cc1890f3",
   "metadata": {},
   "outputs": [],
   "source": [
    "#len(tuple1)"
   ]
  },
  {
   "cell_type": "code",
   "execution_count": 43,
   "id": "2bce0a40-afea-46f7-899e-ac871cdd33a7",
   "metadata": {},
   "outputs": [
    {
     "data": {
      "text/plain": [
       "5"
      ]
     },
     "execution_count": 43,
     "metadata": {},
     "output_type": "execute_result"
    }
   ],
   "source": [
    "max(tuple2)"
   ]
  },
  {
   "cell_type": "code",
   "execution_count": 44,
   "id": "3d495ffc-73b2-476a-927a-a6a7985a6dea",
   "metadata": {},
   "outputs": [
    {
     "data": {
      "text/plain": [
       "1"
      ]
     },
     "execution_count": 44,
     "metadata": {},
     "output_type": "execute_result"
    }
   ],
   "source": [
    "min(tuple2)"
   ]
  },
  {
   "cell_type": "code",
   "execution_count": 45,
   "id": "4918b140-f35d-412c-ad78-4591c4036c32",
   "metadata": {},
   "outputs": [],
   "source": [
    "#Dictionaries"
   ]
  },
  {
   "cell_type": "code",
   "execution_count": 46,
   "id": "c33c49b4-5619-43c6-847a-ffa3497d4b1d",
   "metadata": {},
   "outputs": [],
   "source": [
    "dict={'Name':'Zara','Age':7,'Name':'Manni'} "
   ]
  },
  {
   "cell_type": "code",
   "execution_count": 47,
   "id": "d23998a2-b85b-414a-8324-173da3dd40ff",
   "metadata": {},
   "outputs": [
    {
     "name": "stdout",
     "output_type": "stream",
     "text": [
      "dict['Name']:  Manni\n"
     ]
    }
   ],
   "source": [
    "print(\"dict['Name']: \",dict['Name']) #Name was twice in dictionaries"
   ]
  },
  {
   "cell_type": "code",
   "execution_count": 48,
   "id": "ac7e88d8-69a4-448c-8838-7940f77bab94",
   "metadata": {},
   "outputs": [],
   "source": [
    "dict={'Name':'Zara','Age':7,'Class':'First'}"
   ]
  },
  {
   "cell_type": "code",
   "execution_count": 49,
   "id": "55b35389-816e-4dc9-890c-0217547be682",
   "metadata": {},
   "outputs": [
    {
     "name": "stdout",
     "output_type": "stream",
     "text": [
      "dict['Name']:  Zara\n"
     ]
    }
   ],
   "source": [
    "print (\"dict['Name']: \", dict['Name'])"
   ]
  },
  {
   "cell_type": "code",
   "execution_count": 50,
   "id": "81efd721-279f-4a1a-8185-1a8ac0ea46e1",
   "metadata": {},
   "outputs": [],
   "source": [
    "dict['Age'] = 8"
   ]
  },
  {
   "cell_type": "code",
   "execution_count": 51,
   "id": "6b442673-f18b-476c-bc87-1883c6465f4c",
   "metadata": {},
   "outputs": [],
   "source": [
    "del dict['Name']"
   ]
  },
  {
   "cell_type": "code",
   "execution_count": 52,
   "id": "70df1c50-5137-4556-869c-27bb20618316",
   "metadata": {},
   "outputs": [
    {
     "name": "stdout",
     "output_type": "stream",
     "text": [
      "{'Age': 8, 'Class': 'First'}\n"
     ]
    }
   ],
   "source": [
    "print(dict)"
   ]
  },
  {
   "cell_type": "code",
   "execution_count": 53,
   "id": "e477441e-490b-4eb2-9b4f-c3dfc5a441f8",
   "metadata": {},
   "outputs": [],
   "source": [
    "dict.clear()"
   ]
  },
  {
   "cell_type": "code",
   "execution_count": 54,
   "id": "8511c04b-10e1-4e0c-8070-0c67eff18b97",
   "metadata": {},
   "outputs": [
    {
     "name": "stdout",
     "output_type": "stream",
     "text": [
      "{}\n"
     ]
    }
   ],
   "source": [
    "print(dict)"
   ]
  },
  {
   "cell_type": "code",
   "execution_count": 55,
   "id": "c42c6ebf-13c0-4f50-908a-b48994bd8807",
   "metadata": {},
   "outputs": [],
   "source": [
    "del dict "
   ]
  },
  {
   "cell_type": "code",
   "execution_count": 56,
   "id": "15900959-c5e3-4cf4-b510-360f25c4c54c",
   "metadata": {},
   "outputs": [
    {
     "name": "stdout",
     "output_type": "stream",
     "text": [
      "<class 'dict'>\n"
     ]
    }
   ],
   "source": [
    "print(dict)"
   ]
  },
  {
   "cell_type": "code",
   "execution_count": 57,
   "id": "815733c6-ca21-4e9a-987c-afb14f6c9c0c",
   "metadata": {},
   "outputs": [],
   "source": [
    "dict={'Name':'Zara','Age':7,'Class':'First'}"
   ]
  },
  {
   "cell_type": "code",
   "execution_count": 58,
   "id": "dff9222e-afd8-4027-9fa4-ef3485493e53",
   "metadata": {},
   "outputs": [
    {
     "data": {
      "text/plain": [
       "3"
      ]
     },
     "execution_count": 58,
     "metadata": {},
     "output_type": "execute_result"
    }
   ],
   "source": [
    "len(dict)"
   ]
  },
  {
   "cell_type": "code",
   "execution_count": 59,
   "id": "8bd76561-8d2b-4c0c-a63e-729355c5dc3c",
   "metadata": {},
   "outputs": [
    {
     "data": {
      "text/plain": [
       "\"{'Name': 'Zara', 'Age': 7, 'Class': 'First'}\""
      ]
     },
     "execution_count": 59,
     "metadata": {},
     "output_type": "execute_result"
    }
   ],
   "source": [
    "str(dict)"
   ]
  },
  {
   "cell_type": "code",
   "execution_count": 60,
   "id": "17d76415-f06f-4e3a-b8cf-c537e7078ba6",
   "metadata": {},
   "outputs": [
    {
     "data": {
      "text/plain": [
       "dict"
      ]
     },
     "execution_count": 60,
     "metadata": {},
     "output_type": "execute_result"
    }
   ],
   "source": [
    "type(dict)"
   ]
  },
  {
   "cell_type": "code",
   "execution_count": 61,
   "id": "d7283322-ea41-4cf3-af72-e1cfd40d85ff",
   "metadata": {},
   "outputs": [
    {
     "data": {
      "text/plain": [
       "{'Name': 'Zara', 'Age': 7, 'Class': 'First'}"
      ]
     },
     "execution_count": 61,
     "metadata": {},
     "output_type": "execute_result"
    }
   ],
   "source": [
    "dict.copy() "
   ]
  },
  {
   "cell_type": "code",
   "execution_count": 62,
   "id": "37a95f8a-8121-4996-8c26-c6201c814814",
   "metadata": {},
   "outputs": [
    {
     "data": {
      "text/plain": [
       "dict_items([('Name', 'Zara'), ('Age', 7), ('Class', 'First')])"
      ]
     },
     "execution_count": 62,
     "metadata": {},
     "output_type": "execute_result"
    }
   ],
   "source": [
    "dict.items()"
   ]
  },
  {
   "cell_type": "code",
   "execution_count": 63,
   "id": "c2b30170-4120-4601-9ceb-8efbf69b48ae",
   "metadata": {},
   "outputs": [
    {
     "data": {
      "text/plain": [
       "dict_keys(['Name', 'Age', 'Class'])"
      ]
     },
     "execution_count": 63,
     "metadata": {},
     "output_type": "execute_result"
    }
   ],
   "source": [
    "dict.keys()"
   ]
  },
  {
   "cell_type": "code",
   "execution_count": 64,
   "id": "b56a599e-d828-442f-8b23-8d4ed5d31249",
   "metadata": {},
   "outputs": [
    {
     "data": {
      "text/plain": [
       "dict_values(['Zara', 7, 'First'])"
      ]
     },
     "execution_count": 64,
     "metadata": {},
     "output_type": "execute_result"
    }
   ],
   "source": [
    "dict.values() "
   ]
  },
  {
   "cell_type": "code",
   "execution_count": 65,
   "id": "bb512240-0642-4113-9d13-88f15c7d1a41",
   "metadata": {},
   "outputs": [],
   "source": [
    "dict.clear()"
   ]
  }
 ],
 "metadata": {
  "kernelspec": {
   "display_name": "Python 3 (ipykernel)",
   "language": "python",
   "name": "python3"
  },
  "language_info": {
   "codemirror_mode": {
    "name": "ipython",
    "version": 3
   },
   "file_extension": ".py",
   "mimetype": "text/x-python",
   "name": "python",
   "nbconvert_exporter": "python",
   "pygments_lexer": "ipython3",
   "version": "3.12.4"
  }
 },
 "nbformat": 4,
 "nbformat_minor": 5
}
